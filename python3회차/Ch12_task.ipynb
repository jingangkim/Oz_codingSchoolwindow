{
 "cells": [
  {
   "cell_type": "markdown",
   "metadata": {},
   "source": [
    "<span style=\"font-size:100%\">\n",
    "\n",
    "수업은 모두 열심히 들으셨나요?\n",
    "\n",
    "간혹 강의에서 언급되지 않은 내용이 문제로 나올 수 있습니다.<br>\n",
    "그럴땐 강의 내용 외 문제는 구글링을 통해 해결해주세요<br></span>\n",
    "<span style=\"font-size:80%\">\n",
    "(구글링 또한 개발자가 갖쳐야할 역량 중에 하나랍니다 😊)\n",
    "</span>\n",
    "\n",
    "---"
   ]
  },
  {
   "cell_type": "markdown",
   "metadata": {},
   "source": [
    "<span style=\"font-size:80%\">[문제1]<br><br></span>\n",
    "딕셔너리 x에서 키에 해당하는 값을 모두 삭제하는 방법으로 옳은 것을 모두 골라주세요\n",
    "\n",
    "x = {'banana':3000, 'apple':1500, 'orange':2000}\n",
    "\n",
    "1. x.pop('apple')\n",
    "2. x.remove('python')\n",
    "3. del x['orange']\n",
    "4. x.popitem()"
   ]
  },
  {
   "cell_type": "markdown",
   "metadata": {},
   "source": [
    "<span style=\"color:red\">답변</span>"
   ]
  },
  {
   "cell_type": "code",
   "execution_count": 15,
   "metadata": {},
   "outputs": [
    {
     "name": "stdout",
     "output_type": "stream",
     "text": [
      "['__class__', '__class_getitem__', '__contains__', '__delattr__', '__delitem__', '__dir__', '__doc__', '__eq__', '__format__', '__ge__', '__getattribute__', '__getitem__', '__gt__', '__hash__', '__init__', '__init_subclass__', '__ior__', '__iter__', '__le__', '__len__', '__lt__', '__ne__', '__new__', '__or__', '__reduce__', '__reduce_ex__', '__repr__', '__reversed__', '__ror__', '__setattr__', '__setitem__', '__sizeof__', '__str__', '__subclasshook__', 'clear', 'copy', 'fromkeys', 'get', 'items', 'keys', 'pop', 'popitem', 'setdefault', 'update', 'values']\n",
      "{'banana': 3000, 'apple': 1500, 'orange': 2000}\n",
      "{'banana': 3000, 'apple': 1500}\n"
     ]
    }
   ],
   "source": [
    "딕셔너리 = {'banana':3000, 'apple':1500, 'orange':2000}\n",
    "print(dir(dict))\n",
    "print(딕셔너리)\n",
    "딕셔너리.popitem()\n",
    "print(딕셔너리)"
   ]
  },
  {
   "cell_type": "markdown",
   "metadata": {},
   "source": [
    "1번은 애플을 제거함.\n",
    "2번 remove는 리스트에 쓰는 거\n",
    "3번 오렌지 제거\n",
    "4번은 마지막 키값을 삭제 후 해당 값은 튜플로 변환\n",
    "\n",
    "정답은 1, 3, 4"
   ]
  },
  {
   "cell_type": "markdown",
   "metadata": {},
   "source": [
    "----"
   ]
  },
  {
   "cell_type": "markdown",
   "metadata": {},
   "source": [
    "<span style=\"font-size:80%\">[문제2]<br><br></span>\n",
    "딕셔너리의 메서드에 대한 설명으로 올바르지 않은 것을 모두 고르세요<br>\n",
    "\n",
    "1. setdefault는 키만 지정하면 값은 0으로 저장한다.\n",
    "2. update는 딕셔너리에서 키의 값을 수정한다.\n",
    "3. keys는 딕셔너리의 키-값 쌍을 모두 가져온다.\n",
    "4. clear는 딕셔너리의 모든 키-값 쌍을 삭제한다.\n",
    "5. setdefault에 키와 값을 넣어 실행하면 기존 딕셔너리에 없는 키값일 경우 키-값 쌍을 추가한다."
   ]
  },
  {
   "cell_type": "markdown",
   "metadata": {},
   "source": [
    "<span style=\"color:red\">답변</span>"
   ]
  },
  {
   "cell_type": "markdown",
   "metadata": {},
   "source": [
    "1번은 키만 지정하면 값은 none임\n",
    "2번은 수정이 아닌 추가임\n",
    "3번은 keys는 키를 출력하는 거임\n",
    "4번은 맞음 모든 키 값을 없앰\n",
    "5번은 맞음 없으면 추가임\n",
    "\n",
    "정답 1 2 3"
   ]
  },
  {
   "cell_type": "markdown",
   "metadata": {},
   "source": [
    "----"
   ]
  },
  {
   "cell_type": "markdown",
   "metadata": {},
   "source": [
    "<span style=\"font-size:80%\">[문제3]<br><br></span>\n",
    "평균 점수를 구하는 코드를 result 변수에 작성해주세요\n",
    "\n",
    "```\n",
    "ozkim = { \"국어\" : 90, \"'수학\" : 80, \"과학\" : 82, \"영어\" : 72 }\n",
    "result = \n",
    "print(result)\n",
    "```"
   ]
  },
  {
   "cell_type": "markdown",
   "metadata": {},
   "source": [
    "<span style=\"color:red\">답변</span>"
   ]
  },
  {
   "cell_type": "markdown",
   "metadata": {},
   "source": [
    "일단 딕셔너리임\n",
    "sum(ozkim)"
   ]
  },
  {
   "cell_type": "code",
   "execution_count": 43,
   "metadata": {},
   "outputs": [
    {
     "name": "stdout",
     "output_type": "stream",
     "text": [
      "81\n"
     ]
    }
   ],
   "source": [
    "ozkim = { \"국어\" : 90, \"'수학\" : 80, \"과학\" : 82, \"영어\" : 72 }\n",
    "a = (sum(ozkim.values()))\n",
    "b = (len(ozkim))\n",
    "result = a/b\n",
    "print(int(result))"
   ]
  },
  {
   "cell_type": "markdown",
   "metadata": {},
   "source": [
    "----"
   ]
  },
  {
   "cell_type": "markdown",
   "metadata": {},
   "source": [
    "<span style=\"font-size:80%\">[문제4]<br><br></span>\n",
    "상자 딕셔너리에 아래 데이터를 추가하는 코드를 작성해 주세요\n",
    "\n",
    "```\n",
    "상자 = {\"아디다스\": [\"신발\", \"2개\"], \n",
    "            \"나이키\": [\"모자\", \"5개\"], \n",
    "            \"뉴발란스\": [\"가방\", \"1개\"]}\n",
    "````\n",
    "\n",
    "입력할 데이터 : 칼하트 / 후드티 / 2벌"
   ]
  },
  {
   "cell_type": "markdown",
   "metadata": {},
   "source": [
    "<span style=\"color:red\">답변</span>"
   ]
  },
  {
   "cell_type": "markdown",
   "metadata": {},
   "source": []
  },
  {
   "cell_type": "markdown",
   "metadata": {},
   "source": [
    "----"
   ]
  },
  {
   "cell_type": "markdown",
   "metadata": {},
   "source": [
    "<span style=\"font-size:80%\">[문제5]<br><br></span>\n",
    "아래 keys 변수와 vals 변수에 들어있는 값을 이용해 result라는 딕셔너리를 만드는 코드를 작성해주세요 \n",
    "\n",
    "```\n",
    "keys = [\"뉴진스\", \"아이브\", \"에스파\"]\n",
    "vals = [\"하이브\" , \"스타쉽\", \"SM\"]\n",
    "```"
   ]
  },
  {
   "cell_type": "markdown",
   "metadata": {},
   "source": [
    "<span style=\"color:red\">답변</span>"
   ]
  },
  {
   "cell_type": "code",
   "execution_count": 68,
   "metadata": {},
   "outputs": [
    {
     "name": "stdout",
     "output_type": "stream",
     "text": [
      "{'뉴진스': '하이브', '아이브': '스타쉽', '에스파': 'SM'}\n",
      "dict_values(['하이브', '스타쉽', 'SM'])\n"
     ]
    }
   ],
   "source": [
    "result = {\"뉴진스\":\"하이브\", \"아이브\":\"스타쉽\", \"에스파\":\"SM\"}\n",
    "print(result)"
   ]
  }
 ],
 "metadata": {
  "kernelspec": {
   "display_name": "Python 3",
   "language": "python",
   "name": "python3"
  },
  "language_info": {
   "codemirror_mode": {
    "name": "ipython",
    "version": 3
   },
   "file_extension": ".py",
   "mimetype": "text/x-python",
   "name": "python",
   "nbconvert_exporter": "python",
   "pygments_lexer": "ipython3",
   "version": "3.9.6"
  }
 },
 "nbformat": 4,
 "nbformat_minor": 2
}
