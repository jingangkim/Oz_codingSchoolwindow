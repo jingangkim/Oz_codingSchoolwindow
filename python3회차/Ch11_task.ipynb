{
 "cells": [
  {
   "cell_type": "markdown",
   "metadata": {},
   "source": [
    "<span style=\"font-size:100%\">\n",
    "\n",
    "수업은 모두 열심히 들으셨나요?\n",
    "\n",
    "간혹 강의에서 언급되지 않은 내용이 문제로 나올 수 있습니다.<br>\n",
    "그럴땐 강의 내용 외 문제는 구글링을 통해 해결해주세요<br></span>\n",
    "<span style=\"font-size:80%\">\n",
    "(구글링 또한 개발자가 갖쳐야할 역량 중에 하나랍니다 😊)\n",
    "</span>\n",
    "\n",
    "---"
   ]
  },
  {
   "cell_type": "markdown",
   "metadata": {},
   "source": [
    "<span style=\"font-size:80%\">[문제1]<br><br></span>\n",
    "tuple과 list의 차이점으로 올바른 것을 모두 골라주세요\n",
    "\n",
    "1. list만인덱싱이 가능해 원하는 값을 인덱스로 추출할 수 있다.\n",
    "2. tuple은 불편이고 list는 가변이다.\n",
    "3. tuple은 소괄호( () )를 사용하고 리스트는 대괄호( [ ] )를 사용한다.\n",
    "4. 튜플은 입출력이 자주 발행하는 경우 사용하고 리스트는 입출력이 자주 발생하지 않는 상황에 사용한다"
   ]
  },
  {
   "cell_type": "markdown",
   "metadata": {},
   "source": [
    "<span style=\"color:red\">답변</span>"
   ]
  },
  {
   "cell_type": "markdown",
   "metadata": {},
   "source": [
    "2, 3"
   ]
  },
  {
   "cell_type": "markdown",
   "metadata": {},
   "source": [
    "----"
   ]
  },
  {
   "cell_type": "markdown",
   "metadata": {},
   "source": [
    "<span style=\"font-size:80%\">[문제2]<br><br></span>\n",
    "tuple a에 사용할 수 없는 코드를 골라주세요<br>\n",
    "a = (20, 10, 15)\n",
    "\n",
    "1. print(a[:])\n",
    "2. a.pop()\n",
    "3. sum(a)\n",
    "4. a.count(20)"
   ]
  },
  {
   "cell_type": "markdown",
   "metadata": {},
   "source": [
    "<span style=\"color:red\">답변</span>"
   ]
  },
  {
   "cell_type": "markdown",
   "metadata": {},
   "source": [
    "#똑같음\n",
    "#2번은 마지막 요소를 제거하는 것\n",
    "#3번은 더하기\n",
    "#4번은 a에서 20을 칮는 것\n",
    "2번\n"
   ]
  },
  {
   "cell_type": "markdown",
   "metadata": {},
   "source": [
    "----"
   ]
  },
  {
   "cell_type": "markdown",
   "metadata": {},
   "source": [
    "<span style=\"font-size:80%\">[문제3]<br><br></span>\n",
    "아래 코드를 실행시켰을 때 발생하는 상황과 원인을 간략히 설명해주세요\n",
    "\n",
    "```\n",
    "바구니 = ( \"상추\", \"깻잎\", \"삼겹살\")\n",
    "바구니[1] = \"고사리\"\n",
    "```"
   ]
  },
  {
   "cell_type": "markdown",
   "metadata": {},
   "source": [
    "<span style=\"color:red\">답변</span>"
   ]
  },
  {
   "cell_type": "markdown",
   "metadata": {},
   "source": [
    "소괄호라 튜플임\n",
    "바구니[1] = \"고사리\"는 1위치 인덱스의 깻잎을 고사리로 변경.\n",
    "하지만 튜플은 불변이라 불가능함. 리스트라면 가능\n"
   ]
  },
  {
   "cell_type": "code",
   "execution_count": 8,
   "metadata": {},
   "outputs": [
    {
     "name": "stdout",
     "output_type": "stream",
     "text": [
      "['상추', '고사리', '삼겹살']\n"
     ]
    }
   ],
   "source": [
    "바구니 = [\"상추\", '깻잎', \"삼겹살\"]\n",
    "바구니[1] = \"고사리\"\n",
    "print(바구니)"
   ]
  },
  {
   "cell_type": "markdown",
   "metadata": {},
   "source": [
    "----"
   ]
  }
 ],
 "metadata": {
  "kernelspec": {
   "display_name": "Python 3",
   "language": "python",
   "name": "python3"
  },
  "language_info": {
   "codemirror_mode": {
    "name": "ipython",
    "version": 3
   },
   "file_extension": ".py",
   "mimetype": "text/x-python",
   "name": "python",
   "nbconvert_exporter": "python",
   "pygments_lexer": "ipython3",
   "version": "3.11.9"
  }
 },
 "nbformat": 4,
 "nbformat_minor": 2
}
