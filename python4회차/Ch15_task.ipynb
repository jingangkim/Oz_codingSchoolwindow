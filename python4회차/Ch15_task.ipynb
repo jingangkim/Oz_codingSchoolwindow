{
 "cells": [
  {
   "cell_type": "markdown",
   "metadata": {},
   "source": [
    "<span style=\"font-size:100%\">\n",
    "\n",
    "수업은 모두 열심히 들으셨나요?\n",
    "\n",
    "간혹 강의에서 언급되지 않은 내용이 문제로 나올 수 있습니다.<br>\n",
    "그럴땐 강의 내용 외 문제는 구글링을 통해 해결해주세요<br></span>\n",
    "<span style=\"font-size:80%\">\n",
    "(구글링 또한 개발자가 갖쳐야할 역량 중에 하나랍니다 😊)\n",
    "</span>\n",
    "\n",
    "---"
   ]
  },
  {
   "cell_type": "markdown",
   "metadata": {},
   "source": [
    "<span style=\"font-size:80%\">[문제1]<br><br></span>\n",
    "```다음 중 for문으로 10번 반복하는 방법으로 올바른 것을 모두 골라주세요```\n",
    "\n",
    "1. for i in range(10):\n",
    "2. for i in range(5, 16):\n",
    "3. for i in range(10, 0):\n",
    "4. for i in range(20, 40, 2):\n",
    "5. for i in range(1, 10, 1):"
   ]
  },
  {
   "cell_type": "markdown",
   "metadata": {},
   "source": [
    "<span style=\"color:red\">답변</span>"
   ]
  },
  {
   "cell_type": "markdown",
   "metadata": {},
   "source": [
    "1번 true\n",
    "2번은 5부터 15번까지 11번 false\n",
    "3번 작동x false\n",
    "4번은 20번부터 40번까지 2씩 10번 true\n",
    "5번은 9번 false\n",
    "\n",
    "1번 4번"
   ]
  },
  {
   "cell_type": "markdown",
   "metadata": {},
   "source": [
    "----"
   ]
  },
  {
   "cell_type": "markdown",
   "metadata": {},
   "source": [
    "<span style=\"font-size:80%\">[문제2]<br><br></span>\n",
    "```아래 코드에서 잘못된 부분에 대해서 설명해주세요```\n",
    "\n",
    "count = input()\n",
    "\n",
    "for i in range(count)<br>\n",
    "&emsp;&emsp;print('i의 값은', end=' ')<br>\n",
    "&emsp;&emsp;print(i)<br>"
   ]
  },
  {
   "cell_type": "markdown",
   "metadata": {},
   "source": [
    "<span style=\"color:red\">답변</span>"
   ]
  },
  {
   "cell_type": "markdown",
   "metadata": {},
   "source": [
    "숫자형이기 때문에 count 형변환 2번재줄에 count)뒤에 세미콜론 빠짐\n",
    "count = input()\n",
    "for i in range(int(count)):\n",
    "    print('i의 값은', end=' ')\n",
    "    print(i)"
   ]
  },
  {
   "cell_type": "markdown",
   "metadata": {},
   "source": [
    "----"
   ]
  },
  {
   "cell_type": "markdown",
   "metadata": {},
   "source": [
    "<span style=\"font-size:80%\">[문제3]<br><br></span>\n",
    "```아래 코드를 실행 했을 때 결과물로 올바른 것을 골라주세요```\n",
    "\n",
    "for i in reversed(\"python\"):<br>\n",
    "&emsp;&emsp;print(i, end='.')<br>"
   ]
  },
  {
   "cell_type": "markdown",
   "metadata": {},
   "source": [
    "<span style=\"color:red\">답변</span>"
   ]
  },
  {
   "cell_type": "markdown",
   "metadata": {},
   "source": [
    "문제가 안 써있음"
   ]
  },
  {
   "cell_type": "markdown",
   "metadata": {},
   "source": [
    "----"
   ]
  },
  {
   "cell_type": "markdown",
   "metadata": {},
   "source": [
    "<span style=\"font-size:80%\">[문제4]<br><br></span>\n",
    "```리스트에 저장된 데이터를 아래와 같이 출력하세요```\n",
    "\n",
    "오피스텔 = [ [201, 202], [301, 302], [401, 402] ]\n",
    "\n",
    "201호<br>\n",
    "202호<br>\n",
    "`----`\n",
    "\n",
    "301호<br>\n",
    "302호<br>\n",
    "`----`\n",
    "\n",
    "401호<br>\n",
    "402호<br>\n",
    "`----`"
   ]
  },
  {
   "cell_type": "markdown",
   "metadata": {},
   "source": [
    "<span style=\"color:red\">답변</span>"
   ]
  },
  {
   "cell_type": "code",
   "execution_count": 144,
   "metadata": {},
   "outputs": [
    {
     "name": "stdout",
     "output_type": "stream",
     "text": [
      "201호\n",
      "202호\n",
      "----\n",
      "301호\n",
      "302호\n",
      "----\n",
      "401호\n",
      "402호\n",
      "----\n"
     ]
    }
   ],
   "source": [
    "#얘도 2차네\n",
    "오피스텔 = [ [201, 202], [301, 302], [401, 402] ]\n",
    "for 층 in 오피스텔:\n",
    "    for 호 in 층:\n",
    "        print(f'{호}호')\n",
    "    print(\"----\")\n"
   ]
  },
  {
   "cell_type": "markdown",
   "metadata": {},
   "source": [
    "----"
   ]
  },
  {
   "cell_type": "markdown",
   "metadata": {},
   "source": [
    "<span style=\"font-size:80%\">[문제5]<br><br></span>\n",
    "```ohlc 리스트에는 시가(open), 고가 (high), 저가 (low) , 종가(close)가 날짜별로 저장돼 있다. 종가가 150원보다 큰 경우에만 종가를 출력하는 코드를 작성해주세요```\n",
    "\n",
    "ohlc = [[\"open\", \"high\", \"low\", \"close\"], [100, 110, 70, 100], [200, 210, 180, 190], [300, 310, 300, 310]]"
   ]
  },
  {
   "cell_type": "markdown",
   "metadata": {},
   "source": [
    "<span style=\"color:red\">답변</span>"
   ]
  },
  {
   "cell_type": "code",
   "execution_count": 78,
   "metadata": {},
   "outputs": [
    {
     "name": "stdout",
     "output_type": "stream",
     "text": [
      "종가190\n",
      "종가310\n"
     ]
    }
   ],
   "source": [
    "ohlc = [\n",
    "    [\"open\", \"high\", \"low\", \"close\"], [100, 110, 70, 100], [200, 210, 180, 190], [300, 310, 300, 310]\n",
    "    ] #리스트 중에 2차원 리스트임.'\n",
    "\n",
    "for what in ohlc[1:]: #what에 반복문 선언할거임 ohlc라는 변수에서[]안에 있는 값을 가져올건데, [시작값:끝날값]임 안 쓰면? 제한 없음\n",
    "    if what[3] >= 150:  #if 만약에 waht이라고 선언한 변수에서[시작값:끝날값]3번째 값을 가져올거야. 그 값이 150보다 큰 경우?\n",
    "        print(f'종가{what[3]}') #출력할게. waht이라고 선언한 변수에서[시작값:끝날값]3번째 값을 가져올거야\n",
    "                            "
   ]
  }
 ],
 "metadata": {
  "kernelspec": {
   "display_name": "Python 3",
   "language": "python",
   "name": "python3"
  },
  "language_info": {
   "codemirror_mode": {
    "name": "ipython",
    "version": 3
   },
   "file_extension": ".py",
   "mimetype": "text/x-python",
   "name": "python",
   "nbconvert_exporter": "python",
   "pygments_lexer": "ipython3",
   "version": "3.11.9"
  }
 },
 "nbformat": 4,
 "nbformat_minor": 2
}
