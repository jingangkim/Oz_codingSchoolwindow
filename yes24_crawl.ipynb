{
 "cells": [
  {
   "cell_type": "code",
   "execution_count": 2,
   "metadata": {},
   "outputs": [
    {
     "data": {
      "text/plain": [
       "'C:\\\\Users\\\\unign\\\\.wdm\\\\drivers\\\\chromedriver\\\\win64\\\\128.0.6613.84\\\\chromedriver-win32/chromedriver.exe'"
      ]
     },
     "execution_count": 2,
     "metadata": {},
     "output_type": "execute_result"
    }
   ],
   "source": [
    "from webdriver_manager.chrome import ChromeDriverManager\n",
    "ChromeDriverManager().install()"
   ]
  },
  {
   "cell_type": "code",
   "execution_count": 3,
   "metadata": {},
   "outputs": [],
   "source": [
    "from selenium import webdriver\n",
    "browser = webdriver.Chrome()\n",
    "url = 'https://google.com'\n",
    "browser.get(url)"
   ]
  },
  {
   "cell_type": "code",
   "execution_count": 4,
   "metadata": {},
   "outputs": [
    {
     "data": {
      "text/plain": [
       "'대한민국'"
      ]
     },
     "execution_count": 4,
     "metadata": {},
     "output_type": "execute_result"
    }
   ],
   "source": [
    "from selenium.webdriver.common.by import By\n",
    "\n",
    "browser.find_element(By.CLASS_NAME, 'uU7dJb').text"
   ]
  },
  {
   "cell_type": "code",
   "execution_count": 5,
   "metadata": {},
   "outputs": [],
   "source": [
    "url = 'https://www.yes24.com/Product/category/bestseller?CategoryNumber=001&sumgb=06'\n",
    "browser.get(url)"
   ]
  },
  {
   "cell_type": "code",
   "execution_count": 6,
   "metadata": {},
   "outputs": [],
   "source": [
    "# #1개 수집할 때\n",
    "# browser.find_element(By.CLASS_NAME, 'gd_name').get_attribute('href')\n",
    "# #전체 링크 데이터\n",
    "# datas  = browser.find_elements(By.CLASS_NAME, 'gd_name')\n",
    "\n",
    "# for i in datas:\n",
    "#     print(i.get_attribute('href'))\n"
   ]
  },
  {
   "cell_type": "code",
   "execution_count": 7,
   "metadata": {},
   "outputs": [
    {
     "name": "stdout",
     "output_type": "stream",
     "text": [
      "1페이지 수집\n",
      "2페이지 수집\n",
      "3페이지 수집\n",
      "['https://www.yes24.com/Product/Goods/102457889', 'https://www.yes24.com/Product/Goods/128266166', 'https://www.yes24.com/Product/Goods/125557465', 'https://www.yes24.com/Product/Goods/130500819', 'https://www.yes24.com/Product/Goods/104687898', 'https://www.yes24.com/Product/Goods/109145992', 'https://www.yes24.com/Product/Goods/95721612', 'https://www.yes24.com/Product/Goods/129602366', 'https://www.yes24.com/Product/Goods/124999476', 'https://www.yes24.com/Product/Goods/131930939', 'https://www.yes24.com/Product/Goods/131931234', 'https://www.yes24.com/Product/Goods/128917300', 'https://www.yes24.com/Product/Goods/117014613', 'https://www.yes24.com/Product/Goods/132560712', 'https://www.yes24.com/Product/Goods/126642929', 'https://www.yes24.com/Product/Goods/130033773', 'https://www.yes24.com/Product/Goods/132556345', 'https://www.yes24.com/Product/Goods/124043812', 'https://www.yes24.com/Product/Goods/96547408', 'https://www.yes24.com/Product/Goods/124043802', 'https://www.yes24.com/Product/Goods/128133897', 'https://www.yes24.com/Product/Goods/8759796', 'https://www.yes24.com/Product/Goods/125384743', 'https://www.yes24.com/Product/Goods/130134996', 'https://www.yes24.com/Product/Goods/127050264', 'https://www.yes24.com/Product/Goods/130135671', 'https://www.yes24.com/Product/Goods/105119262', 'https://www.yes24.com/Product/Goods/132005760', 'https://www.yes24.com/Product/Goods/130175384', 'https://www.yes24.com/Product/Goods/125995791', 'https://www.yes24.com/Product/Goods/129124029', 'https://www.yes24.com/Product/Goods/122120495', 'https://www.yes24.com/Product/Goods/126590468', 'https://www.yes24.com/Product/Goods/131141187', 'https://www.yes24.com/Product/Goods/124225606', 'https://www.yes24.com/Product/Goods/131929977', 'https://www.yes24.com/Product/Goods/131169928', 'https://www.yes24.com/Product/Goods/126845471', 'https://www.yes24.com/Product/Goods/130169010', 'https://www.yes24.com/Product/Goods/123930880', 'https://www.yes24.com/Product/Goods/130104021', 'https://www.yes24.com/Product/Goods/125285962', 'https://www.yes24.com/Product/Goods/130137454', 'https://www.yes24.com/Product/Goods/132560925', 'https://www.yes24.com/Product/Goods/129868692', 'https://www.yes24.com/Product/Goods/123930891', 'https://www.yes24.com/Product/Goods/23030284', 'https://www.yes24.com/Product/Goods/101864763', 'https://www.yes24.com/Product/Goods/129868701', 'https://www.yes24.com/Product/Goods/126702038', 'https://www.yes24.com/Product/Goods/130697449', 'https://www.yes24.com/Product/Goods/131143825', 'https://www.yes24.com/Product/Goods/125992096', 'https://www.yes24.com/Product/Goods/129868658', 'https://www.yes24.com/Product/Goods/132549254', 'https://www.yes24.com/Product/Goods/130282007', 'https://www.yes24.com/Product/Goods/130339184', 'https://www.yes24.com/Product/Goods/67362730', 'https://www.yes24.com/Product/Goods/124622440', 'https://www.yes24.com/Product/Goods/125005783', 'https://www.yes24.com/Product/Goods/2312211', 'https://www.yes24.com/Product/Goods/129392318', 'https://www.yes24.com/Product/Goods/129132125', 'https://www.yes24.com/Product/Goods/126516935', 'https://www.yes24.com/Product/Goods/125295101', 'https://www.yes24.com/Product/Goods/11081680', 'https://www.yes24.com/Product/Goods/104663596', 'https://www.yes24.com/Product/Goods/2944911', 'https://www.yes24.com/Product/Goods/131206997', 'https://www.yes24.com/Product/Goods/102791425', 'https://www.yes24.com/Product/Goods/123675187', 'https://www.yes24.com/Product/Goods/131927753']\n"
     ]
    }
   ],
   "source": [
    "import time\n",
    "\n",
    "\n",
    "link_list = []\n",
    "for i in range(1,4):\n",
    "    print(f\"{i}페이지 수집\")\n",
    "    \n",
    "    url = f'https://www.yes24.com/Product/Category/BestSeller?categoryNumber=001&pageNumber={i}&pageSize=24'\n",
    "    browser.get(url)\n",
    "    \n",
    "    browser.find_element(By.CLASS_NAME, 'gd_name').get_attribute('href')\n",
    "    datas = browser.find_elements(By.CLASS_NAME, 'gd_name')\n",
    "\n",
    "    for i in datas:\n",
    "        link = i.get_attribute('href')\n",
    "        link_list.append(link)\n",
    "        \n",
    "    time.sleep(1)\n",
    "\n",
    "print(link_list)"
   ]
  },
  {
   "cell_type": "code",
   "execution_count": 17,
   "metadata": {},
   "outputs": [
    {
     "name": "stdout",
     "output_type": "stream",
     "text": [
      "베스트 국내도서 1위\n",
      "국내도서 1위 2주\n"
     ]
    }
   ],
   "source": [
    "# 상세 페이지로 이동하기\n",
    "#for link in link_list:\n",
    "    #browser.get(link)\n",
    "    \n",
    "browser.get(link_list[0])\n",
    "\n",
    "title = browser.find_element(By.CLASS_NAME, 'gd_name').text\n",
    "author = browser.find_element(By.CLASS_NAME, 'gd_auth').text\n",
    "publisher = browser.find_element(By.CLASS_NAME, 'gd_pub').text\n",
    "publishing = browser.find_element(By.CLASS_NAME, 'gd_date').text\n",
    "rating = browser.find_element(By.CLASS_NAME, 'yes_b').text\n",
    "review = browser.find_element(By.CLASS_NAME, 'txC_blue').text\n",
    "sales = browser.find_element(By.CLASS_NAME, 'gd_sellNum').text.split(\" \")[2]\n",
    "price = browser.find_element(By.CLASS_NAME, 'yes_m').text[:-1]\n",
    "ranking = browser.find_element(By.CLASS_NAME, 'gd_best').text.split(\" | \")[0]\n",
    "ranking_weeks = browser.find_element(By.CLASS_NAME, 'gd_best').text.split(\" | \")[1]\n",
    "\n",
    "print(ranking)\n",
    "print(ranking_weeks)"
   ]
  },
  {
   "cell_type": "code",
   "execution_count": 19,
   "metadata": {},
   "outputs": [
    {
     "name": "stdout",
     "output_type": "stream",
     "text": [
      "1\n",
      "2\n",
      "3\n",
      "4\n",
      "5\n",
      "6\n",
      "7\n",
      "8\n",
      "9\n",
      "10\n",
      "11\n",
      "12\n",
      "13\n",
      "14\n",
      "15\n",
      "16\n",
      "17\n",
      "18\n",
      "19\n",
      "20\n",
      "21\n",
      "22\n",
      "23\n",
      "24\n",
      "25\n",
      "26\n",
      "27\n",
      "28\n",
      "29\n",
      "30\n",
      "31\n",
      "32\n",
      "33\n",
      "34\n",
      "35\n",
      "36\n",
      "37\n",
      "38\n",
      "39\n",
      "40\n",
      "41\n",
      "42\n",
      "43\n",
      "44\n",
      "45\n",
      "46\n",
      "47\n",
      "48\n",
      "49\n",
      "50\n",
      "51\n",
      "52\n",
      "53\n",
      "54\n"
     ]
    },
    {
     "ename": "ValueError",
     "evalue": "invalid literal for int() with base 10: '예약판매'",
     "output_type": "error",
     "traceback": [
      "\u001b[1;31m---------------------------------------------------------------------------\u001b[0m",
      "\u001b[1;31mValueError\u001b[0m                                Traceback (most recent call last)",
      "Cell \u001b[1;32mIn[19], line 36\u001b[0m\n\u001b[0;32m     34\u001b[0m rating \u001b[38;5;241m=\u001b[39m browser\u001b[38;5;241m.\u001b[39mfind_element(By\u001b[38;5;241m.\u001b[39mCLASS_NAME, \u001b[38;5;124m'\u001b[39m\u001b[38;5;124myes_b\u001b[39m\u001b[38;5;124m'\u001b[39m)\u001b[38;5;241m.\u001b[39mtext\n\u001b[0;32m     35\u001b[0m review \u001b[38;5;241m=\u001b[39m browser\u001b[38;5;241m.\u001b[39mfind_element(By\u001b[38;5;241m.\u001b[39mCLASS_NAME, \u001b[38;5;124m'\u001b[39m\u001b[38;5;124mtxC_blue\u001b[39m\u001b[38;5;124m'\u001b[39m)\u001b[38;5;241m.\u001b[39mtext\n\u001b[1;32m---> 36\u001b[0m review \u001b[38;5;241m=\u001b[39m \u001b[38;5;28;43mint\u001b[39;49m\u001b[43m(\u001b[49m\u001b[43mreview\u001b[49m\u001b[38;5;241;43m.\u001b[39;49m\u001b[43mreplace\u001b[49m\u001b[43m(\u001b[49m\u001b[38;5;124;43m\"\u001b[39;49m\u001b[38;5;124;43m,\u001b[39;49m\u001b[38;5;124;43m\"\u001b[39;49m\u001b[43m,\u001b[49m\u001b[38;5;124;43m\"\u001b[39;49m\u001b[38;5;124;43m\"\u001b[39;49m\u001b[43m)\u001b[49m\u001b[43m)\u001b[49m\n\u001b[0;32m     39\u001b[0m sales \u001b[38;5;241m=\u001b[39m browser\u001b[38;5;241m.\u001b[39mfind_element(By\u001b[38;5;241m.\u001b[39mCLASS_NAME, \u001b[38;5;124m'\u001b[39m\u001b[38;5;124mgd_sellNum\u001b[39m\u001b[38;5;124m'\u001b[39m)\u001b[38;5;241m.\u001b[39mtext\u001b[38;5;241m.\u001b[39msplit(\u001b[38;5;124m\"\u001b[39m\u001b[38;5;124m \u001b[39m\u001b[38;5;124m\"\u001b[39m)[\u001b[38;5;241m2\u001b[39m]\n\u001b[0;32m     40\u001b[0m sales \u001b[38;5;241m=\u001b[39m \u001b[38;5;28mint\u001b[39m(sales\u001b[38;5;241m.\u001b[39mreplace(\u001b[38;5;124m\"\u001b[39m\u001b[38;5;124m,\u001b[39m\u001b[38;5;124m\"\u001b[39m,\u001b[38;5;124m\"\u001b[39m\u001b[38;5;124m\"\u001b[39m))\n",
      "\u001b[1;31mValueError\u001b[0m: invalid literal for int() with base 10: '예약판매'"
     ]
    }
   ],
   "source": [
    "import pymysql\n",
    "import re\n",
    "from datetime import datetime\n",
    "\n",
    "conn = pymysql.connect(\n",
    "    host='localhost',\n",
    "    user='root',\n",
    "    password='@Ab1480718',\n",
    "    db='yes24',\n",
    "    charset='utf8mb4',\n",
    "    cursorclass=pymysql.cursors.DictCursor\n",
    ")\n",
    "\n",
    "with conn.cursor() as cur:\n",
    "\n",
    "    for link in link_list:\n",
    "        browser.get(link)\n",
    "    \n",
    "        title = browser.find_element(By.CLASS_NAME, 'gd_name').text\n",
    "        author = browser.find_element(By.CLASS_NAME, 'gd_auth').text\n",
    "        publisher = browser.find_element(By.CLASS_NAME, 'gd_pub').text\n",
    "        publishing = browser.find_element(By.CLASS_NAME, 'gd_date').text\n",
    "    \n",
    "        match = re.search(r'(\\d+)년 (\\d+)월 (\\d+)일', publishing)\n",
    "        \n",
    "        if match:\n",
    "            year, month, day = match.groups()\n",
    "            data_obj = datetime(int(year), int(month), int(day))\n",
    "            publishing = data_obj.strftime(\"%Y-%m-%d\")\n",
    "        else:\n",
    "            publishing = \"2024-08-26\"\n",
    "            \n",
    "            \n",
    "        rating = browser.find_element(By.CLASS_NAME, 'yes_b').text\n",
    "        review = browser.find_element(By.CLASS_NAME, 'txC_blue').text\n",
    "        review = int(review.replace(\",\",\"\"))\n",
    "        \n",
    "        \n",
    "        sales = browser.find_element(By.CLASS_NAME, 'gd_sellNum').text.split(\" \")[2]\n",
    "        sales = int(sales.replace(\",\",\"\"))\n",
    "        \n",
    "        price = browser.find_element(By.CLASS_NAME, 'yes_m').text[:-1]\n",
    "        price = int(price.replace(\",\",\"\"))\n",
    "        \n",
    "            \n",
    "        if len(parts) == 1:\n",
    "            ranking = 0\n",
    "            ranking_weeks = 0\n",
    "        else:\n",
    "            try:\n",
    "                full_text = browser.find_element(By.CLASS_NAME, 'gd_best').text\n",
    "                parts = full_text.split(\" | \")\n",
    "                ranking_part = parts[0]\n",
    "                ranking = ''.join(filter(str.isdigit, ranking_part))\n",
    "            except:\n",
    "                ranking = 0\n",
    "                \n",
    "            print(ranking)\n",
    "            try:\n",
    "                ranking_weeks_part = parts[1]\n",
    "                ranking_weeks = ''.join(filter(str.isdigit, ranking_weeks_part.split()[-1]))\n",
    "            except:\n",
    "                ranking_weeks = 0\n",
    "            \n",
    "    \n",
    "    ranking = browser.find_element(By.CLASS_NAME, 'gd_best').text.split(\" | \")[0]\n",
    "    ranking_weeks = browser.find_element(By.CLASS_NAME, 'gd_best').text.split(\" | \")[1]\n",
    "    \n",
    "    sql = \"\"\"INSERT INTO Books(title, author, publisher, publishing, rating, review, sales, price, ranking, ranking_weeks)\n",
    "            VALUES(%s, %s, %s, %s, %s, %s, %s, %s, %s, %s\n",
    "            )\"\"\"\n",
    "    \n",
    "    cur.execute(sql,( title, author, publisher, publishing, rating, review, sales, price, ranking, ranking_weeks))\n",
    "    conn.commit()\n",
    "    \n",
    "    time.sleep(2)"
   ]
  }
 ],
 "metadata": {
  "kernelspec": {
   "display_name": ".venv",
   "language": "python",
   "name": "python3"
  },
  "language_info": {
   "codemirror_mode": {
    "name": "ipython",
    "version": 3
   },
   "file_extension": ".py",
   "mimetype": "text/x-python",
   "name": "python",
   "nbconvert_exporter": "python",
   "pygments_lexer": "ipython3",
   "version": "3.12.5"
  }
 },
 "nbformat": 4,
 "nbformat_minor": 2
}
