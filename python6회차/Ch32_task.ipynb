{
 "cells": [
  {
   "cell_type": "markdown",
   "metadata": {},
   "source": [
    "두 문자열을 받아서 긴 문자열을 반환하는 함수 longer_string을 작성하세요. 만약 두 문자열의 길이가 같다면, 첫 번째 문자열을 반환하세요."
   ]
  },
  {
   "cell_type": "markdown",
   "metadata": {},
   "source": [
    "def longer_string"
   ]
  },
  {
   "cell_type": "code",
   "execution_count": 15,
   "metadata": {},
   "outputs": [
    {
     "name": "stdout",
     "output_type": "stream",
     "text": [
      "첫번째 출력\n",
      "두번째 출력\n",
      "<generator object test at 0x000001CC5069D480>\n"
     ]
    }
   ],
   "source": [
    "def test():\n",
    "    print(\"제너레이터 확인해보기\")\n",
    "    yield \"test\"\n",
    "\n",
    "# 첫 번째 출력 시도\n",
    "print(\"첫번째 출력\")\n",
    "test()  # test 함수를 호출하지만 제너레이터 객체를 사용하지 않음\n",
    "\n",
    "# 두 번째 출력 시도\n",
    "print(\"두번째 출력\")\n",
    "test()  # test 함수를 호출하지만 제너레이터 객체를 사용하지 않음\n",
    "\n",
    "# 제너레이터 객체를 출력\n",
    "print(test())  # 제너레이터 객체를 생성하고 이를 출력"
   ]
  }
 ],
 "metadata": {
  "kernelspec": {
   "display_name": "Python 3",
   "language": "python",
   "name": "python3"
  },
  "language_info": {
   "codemirror_mode": {
    "name": "ipython",
    "version": 3
   },
   "file_extension": ".py",
   "mimetype": "text/x-python",
   "name": "python",
   "nbconvert_exporter": "python",
   "pygments_lexer": "ipython3",
   "version": "3.11.9"
  }
 },
 "nbformat": 4,
 "nbformat_minor": 2
}
