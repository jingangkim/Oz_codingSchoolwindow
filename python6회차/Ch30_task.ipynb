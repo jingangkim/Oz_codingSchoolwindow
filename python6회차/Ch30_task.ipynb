{
 "cells": [
  {
   "cell_type": "markdown",
   "metadata": {},
   "source": [
    "팩토리얼을 계산하는 재귀 함수 factorial을 작성하세요."
   ]
  },
  {
   "cell_type": "code",
   "execution_count": 3,
   "metadata": {},
   "outputs": [
    {
     "ename": "ValueError",
     "evalue": "invalid literal for int() with base 10: ''",
     "output_type": "error",
     "traceback": [
      "\u001b[1;31m---------------------------------------------------------------------------\u001b[0m",
      "\u001b[1;31mValueError\u001b[0m                                Traceback (most recent call last)",
      "Cell \u001b[1;32mIn[3], line 7\u001b[0m\n\u001b[0;32m      4\u001b[0m     \u001b[38;5;28;01melse\u001b[39;00m:\t\t\t\t\t\t\t\u001b[38;5;66;03m#그 외 경우에는\u001b[39;00m\n\u001b[0;32m      5\u001b[0m         \u001b[38;5;28;01mreturn\u001b[39;00m n \u001b[38;5;241m*\u001b[39m factorial(n\u001b[38;5;241m-\u001b[39m\u001b[38;5;241m1\u001b[39m)\t\t\t\u001b[38;5;66;03m#n에 n-1이된 값을 곱하여 리턴한다\u001b[39;00m\n\u001b[1;32m----> 7\u001b[0m n \u001b[38;5;241m=\u001b[39m \u001b[38;5;28;43mint\u001b[39;49m\u001b[43m(\u001b[49m\u001b[38;5;28;43minput\u001b[39;49m\u001b[43m(\u001b[49m\u001b[43m)\u001b[49m\u001b[43m)\u001b[49m\t\t\t\t\t\u001b[38;5;66;03m#n에 값을 넣어보자\u001b[39;00m\n\u001b[0;32m      8\u001b[0m \u001b[38;5;28mprint\u001b[39m(factorial(n))\t\t\t\t\t\t\u001b[38;5;66;03m#출력\u001b[39;00m\n",
      "\u001b[1;31mValueError\u001b[0m: invalid literal for int() with base 10: ''"
     ]
    }
   ],
   "source": [
    "def factorial(n):   #함수선언\n",
    "    if n == 0:  #만약 n의 값이 0이 된다면\n",
    "        return 1\t\t\t\t\t#1을 리턴한다. 곱셈이 필요하기 때문에 0을 곱하면 안되기 때문\n",
    "    else:\t\t\t\t\t\t\t#그 외 경우에는\n",
    "        return n * factorial(n-1)\t\t\t#n에 n-1이된 값을 곱하여 리턴한다\n",
    "\n",
    "n = int(input())\t\t\t\t\t#n에 값을 넣어보자\n",
    "print(factorial(n))\t\t\t\t\t\t#출력"
   ]
  }
 ],
 "metadata": {
  "kernelspec": {
   "display_name": "Python 3",
   "language": "python",
   "name": "python3"
  },
  "language_info": {
   "codemirror_mode": {
    "name": "ipython",
    "version": 3
   },
   "file_extension": ".py",
   "mimetype": "text/x-python",
   "name": "python",
   "nbconvert_exporter": "python",
   "pygments_lexer": "ipython3",
   "version": "3.11.9"
  }
 },
 "nbformat": 4,
 "nbformat_minor": 2
}
